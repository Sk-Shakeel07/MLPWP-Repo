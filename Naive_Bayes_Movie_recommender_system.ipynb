{
  "nbformat": 4,
  "nbformat_minor": 0,
  "metadata": {
    "colab": {
      "provenance": []
    },
    "kernelspec": {
      "name": "python3",
      "display_name": "Python 3"
    },
    "language_info": {
      "name": "python"
    }
  },
  "cells": [
    {
      "cell_type": "markdown",
      "metadata": {
        "id": "8db72b82"
      },
      "source": [
        "# Movie Recommendation System\n",
        "\n",
        "This notebook builds a simple movie recommendation system from scratch using collaborative filtering based on user ratings."
      ]
    },
    {
      "cell_type": "markdown",
      "metadata": {
        "id": "3c5d9fe8"
      },
      "source": [
        "## 1. Load Data\n",
        "\n",
        "**Subtask:** Load the movie ratings and movie title data.\n",
        "\n",
        "**Reasoning:**\n",
        "Download and unzip the MovieLens 1M dataset, then load the ratings and movie information into appropriate data structures."
      ]
    },
    {
      "cell_type": "code",
      "metadata": {
        "colab": {
          "base_uri": "https://localhost:8080/"
        },
        "id": "f7065e71",
        "outputId": "2fef9e85-7225-4edb-a31b-a125687cae61"
      },
      "source": [
        "# Download and unzip the dataset\n",
        "!wget -nc http://files.grouplens.org/datasets/movielens/ml-1m.zip\n",
        "!unzip -n ml-1m.zip\n",
        "\n",
        "import numpy as np\n",
        "from collections import defaultdict\n",
        "\n",
        "# Define variables and dataset parameters\n",
        "data_path = '/content/ml-1m/ratings.dat'\n",
        "movies_path = '/content/ml-1m/movies.dat'\n",
        "n_users = 6040\n",
        "n_movies = 3706\n",
        "\n",
        "def load_rating_data(data_path, n_users, n_movies):\n",
        "    \"\"\"\n",
        "    Loads movie rating data from file, and returns the number of\n",
        "    ratings for each movie and a movie ID to index mapping.\n",
        "    \"\"\"\n",
        "    data = np.zeros([n_users, n_movies], dtype=np.uint8)\n",
        "    movie_id_mapping = {}\n",
        "    movie_n_rating = defaultdict(int)\n",
        "\n",
        "    with open(data_path, 'r') as file:\n",
        "        for line in file.readlines():\n",
        "            line_split = line.strip().split('::')\n",
        "            user_id, movie_id, rating = line_split[0], line_split[1], line_split[2]\n",
        "\n",
        "            # Convert to zero-based index\n",
        "            user_id = int(user_id) - 1\n",
        "\n",
        "            # Create movie ID mapping if it doesn't exist\n",
        "            if movie_id not in movie_id_mapping:\n",
        "                movie_id_mapping[movie_id] = len(movie_id_mapping)\n",
        "\n",
        "            # Convert rating to integer\n",
        "            rating = int(rating)\n",
        "\n",
        "            # Store the rating in the data matrix\n",
        "            data[user_id, movie_id_mapping[movie_id]] = rating\n",
        "\n",
        "            if rating > 0:\n",
        "                movie_n_rating[movie_id] += 1\n",
        "\n",
        "    return data, movie_n_rating, movie_id_mapping\n",
        "\n",
        "def load_movie_titles(movies_path):\n",
        "    \"\"\"\n",
        "    Loads movie titles from file and returns a dictionary mapping movie ID to title.\n",
        "    \"\"\"\n",
        "    movie_id_to_title = {}\n",
        "    with open(movies_path, 'r', encoding='ISO-8859-1') as file:\n",
        "        for line in file.readlines():\n",
        "            line_split = line.strip().split('::')\n",
        "            movie_id, movie_title = line_split[0], line_split[1]\n",
        "            movie_id_to_title[int(movie_id)] = movie_title\n",
        "    return movie_id_to_title\n",
        "\n",
        "# Load dataset\n",
        "data, movie_n_rating, movie_id_mapping = load_rating_data(data_path, n_users, n_movies)\n",
        "movie_id_to_title = load_movie_titles(movies_path)\n",
        "\n",
        "print('Shape of user-item matrix:', data.shape)\n",
        "print('Number of movies loaded:', len(movie_id_to_title))"
      ],
      "execution_count": 68,
      "outputs": [
        {
          "output_type": "stream",
          "name": "stdout",
          "text": [
            "File ‘ml-1m.zip’ already there; not retrieving.\n",
            "\n",
            "Archive:  ml-1m.zip\n",
            "Shape of user-item matrix: (6040, 3706)\n",
            "Number of movies loaded: 3883\n"
          ]
        }
      ]
    },
    {
      "cell_type": "markdown",
      "metadata": {
        "id": "be8f64d8"
      },
      "source": [
        "## 2. Prepare Data\n",
        "**Subtask:** Display dataset statistics and create a binary rating column.\n",
        "\n",
        "**Reasoning:**\n",
        "Display the number of users and movies loaded. Count the occurrences of each rating value (0-5) in the `user_item_matrix`. Create a new binary column where the value is 1 if the rating is 4 or 5, and 0 otherwise."
      ]
    },
    {
      "cell_type": "code",
      "metadata": {
        "colab": {
          "base_uri": "https://localhost:8080/"
        },
        "id": "8d4d7d79",
        "outputId": "36557ff8-102c-47cc-8050-c470a60017f7"
      },
      "source": [
        "# Display the number of users and movies\n",
        "print(f\"Number of users: {user_item_matrix.shape[0]}\")\n",
        "print(f\"Number of movies: {user_item_matrix.shape[1]}\")\n",
        "\n",
        "# Count the occurrences of each rating value\n",
        "rating_counts = {}\n",
        "for rating in range(6): # Ratings are 0 through 5\n",
        "    count = np.sum(user_item_matrix == rating)\n",
        "    rating_counts[rating] = count\n",
        "\n",
        "print(\"\\nRating Counts:\")\n",
        "for rating, count in rating_counts.items():\n",
        "    print(f\"Rating {rating}: {count}\")\n",
        "\n",
        "# Create a new binary column for high ratings (>= 4)\n",
        "# We'll create a new matrix for this to avoid modifying the original user_item_matrix\n",
        "high_rating_matrix = np.zeros_like(user_item_matrix, dtype=np.uint8)\n",
        "high_rating_matrix[user_item_matrix >= 4] = 1\n",
        "\n",
        "print(\"\\nShape of high rating matrix:\", high_rating_matrix.shape)\n",
        "\n",
        "# Print a small slice of the high_rating_matrix to see its contents\n",
        "print(\"\\nSample of high rating matrix (first 5 users and first 10 movies):\")\n",
        "print(high_rating_matrix[0:5, 0:10])"
      ],
      "execution_count": 69,
      "outputs": [
        {
          "output_type": "stream",
          "name": "stdout",
          "text": [
            "Number of users: 6040\n",
            "Number of movies: 3706\n",
            "\n",
            "Rating Counts:\n",
            "Rating 0: 21384031\n",
            "Rating 1: 56174\n",
            "Rating 2: 107557\n",
            "Rating 3: 261197\n",
            "Rating 4: 348971\n",
            "Rating 5: 226310\n",
            "\n",
            "Shape of high rating matrix: (6040, 3706)\n",
            "\n",
            "Sample of high rating matrix (first 5 users and first 10 movies):\n",
            "[[1 0 0 1 1 0 1 1 1 1]\n",
            " [1 0 0 0 0 0 0 0 0 0]\n",
            " [0 0 0 0 1 1 0 0 0 0]\n",
            " [0 0 0 0 0 0 0 0 0 0]\n",
            " [0 0 0 0 1 0 0 0 0 1]]\n"
          ]
        }
      ]
    },
    {
      "cell_type": "markdown",
      "metadata": {
        "id": "4201dbde"
      },
      "source": [
        "## 2. Prepare Data (Continued)\n",
        "\n",
        "**Subtask:** Preprocess the data for building a recommendation model by creating a user-item matrix.\n",
        "\n",
        "**Reasoning:**\n",
        "The `data` variable loaded in the previous step already represents the user-item matrix with 0s for missing ratings. We will use this directly and confirm its shape."
      ]
    },
    {
      "cell_type": "code",
      "metadata": {
        "colab": {
          "base_uri": "https://localhost:8080/"
        },
        "id": "a6d9ab8e",
        "outputId": "1fcdb3dd-88d4-4a85-fa3c-e348c1c92712"
      },
      "source": [
        "# The 'data' variable already represents the user-item matrix with 0s for missing ratings.\n",
        "# So, we will directly use the 'data' variable.\n",
        "user_item_matrix = data\n",
        "\n",
        "# Display the shape of the user-item matrix\n",
        "print('Shape of user-item matrix:', user_item_matrix.shape)"
      ],
      "execution_count": 70,
      "outputs": [
        {
          "output_type": "stream",
          "name": "stdout",
          "text": [
            "Shape of user-item matrix: (6040, 3706)\n"
          ]
        }
      ]
    },
    {
      "cell_type": "markdown",
      "metadata": {
        "id": "d1a82f77"
      },
      "source": [
        "## 3. Build Recommendation Model\n",
        "\n",
        "**Subtask:** Build a recommendation model using the user-item matrix.\n",
        "\n",
        "**Reasoning:**\n",
        "We will use TF-IDF on the user-item matrix to create features that represent how users rate movies. Each row will be treated as a document, and the ratings (0-5) will be the terms."
      ]
    },
    {
      "cell_type": "code",
      "metadata": {
        "colab": {
          "base_uri": "https://localhost:8080/"
        },
        "id": "b8fd9fe9",
        "outputId": "a701667e-180b-4144-9862-35a1caf15a87"
      },
      "source": [
        "from sklearn.feature_extraction.text import TfidfVectorizer\n",
        "from sklearn.metrics.pairwise import cosine_similarity\n",
        "\n",
        "# Convert each row of the user-item matrix to a space-separated string\n",
        "user_item_matrix_strings = [' '.join(map(str, row)) for row in user_item_matrix]\n",
        "\n",
        "# Instantiate TfidfVectorizer with a vocabulary including '0', ngram_range=(1,1), and a simple tokenizer\n",
        "vectorizer = TfidfVectorizer(vocabulary=['0', '1', '2', '3', '4', '5'], ngram_range=(1, 1), tokenizer=lambda x: x.split())\n",
        "\n",
        "# Apply TfidfVectorizer to the user-item matrix strings\n",
        "user_features_sparse = vectorizer.fit_transform(user_item_matrix_strings)\n",
        "\n",
        "# Convert the sparse matrix to a dense NumPy array\n",
        "user_features_dense = user_features_sparse.toarray()\n",
        "\n",
        "# Transpose the user features to get movie features (each column is a movie)\n",
        "movie_features_dense = user_features_dense.T\n",
        "\n",
        "# Print the shape of the dense feature array\n",
        "print('Shape of movie features (dense):', movie_features_dense.shape)"
      ],
      "execution_count": 71,
      "outputs": [
        {
          "output_type": "stream",
          "name": "stdout",
          "text": [
            "Shape of movie features (dense): (6, 6040)\n"
          ]
        }
      ]
    },
    {
      "cell_type": "markdown",
      "metadata": {
        "id": "5a328c9a"
      },
      "source": [
        "## 4. Get User Input\n",
        "\n",
        "**Subtask:** Prompt the user to enter a movie name.\n",
        "\n",
        "**Reasoning:**\n",
        "Use the `input()` function to get the movie name from the user and store it in a variable."
      ]
    },
    {
      "cell_type": "code",
      "metadata": {
        "colab": {
          "base_uri": "https://localhost:8080/"
        },
        "id": "5eb4f697",
        "outputId": "b6ece317-585e-40e3-e06f-8802ae7f905e"
      },
      "source": [
        "movie_name = input('Please enter a movie name: ')\n",
        "print(f'You entered: {movie_name}')"
      ],
      "execution_count": 72,
      "outputs": [
        {
          "output_type": "stream",
          "name": "stdout",
          "text": [
            "Please enter a movie name: Batman Forever\n",
            "You entered: Batman Forever\n"
          ]
        }
      ]
    },
    {
      "cell_type": "markdown",
      "metadata": {
        "id": "a9166c57"
      },
      "source": [
        "## 5. Find Similar Movies\n",
        "\n",
        "**Subtask:** Find movies similar to the one entered by the user.\n",
        "\n",
        "**Reasoning:**\n",
        "Find the movie ID for the user's input, then its index in the movie mapping, calculate cosine similarity with all other movie features, find the top similar movies, and get their titles."
      ]
    },
    {
      "cell_type": "code",
      "metadata": {
        "colab": {
          "base_uri": "https://localhost:8080/"
        },
        "id": "fea89be4",
        "outputId": "86843b34-f6cf-487f-fa97-6e4aa16bb093"
      },
      "source": [
        "# Find the movie ID from the user's input movie name\n",
        "movie_id_input = None\n",
        "for movie_id, title in movie_id_to_title.items():\n",
        "    if movie_name.lower() in title.lower():\n",
        "        movie_id_input = movie_id\n",
        "        print(f'Found movie ID: {movie_id} for \"{title}\"')\n",
        "        break\n",
        "\n",
        "top_similar_movies = [] # Initialize as empty list\n",
        "\n",
        "if movie_id_input is None:\n",
        "    print(f\"Movie '{movie_name}' not found in the dataset.\")\n",
        "else:\n",
        "    # Find the index of the user's chosen movie in the movie_id_mapping\n",
        "    if str(movie_id_input) in movie_id_mapping:\n",
        "        movie_index_input = movie_id_mapping[str(movie_id_input)]\n",
        "\n",
        "        # Select the column corresponding to the input movie index from the movie features\n",
        "        input_movie_features = movie_features_dense[:, movie_index_input].reshape(1, -1)\n",
        "\n",
        "        # Calculate cosine similarity between the input movie's feature vector and all other movie feature vectors\n",
        "        similarity_scores = cosine_similarity(input_movie_features, movie_features_dense.T)\n",
        "\n",
        "        # Get the indices of the movies with the highest similarity scores (excluding the input movie itself)\n",
        "        similar_movies_indices = similarity_scores.flatten().argsort()[::-1]\n",
        "\n",
        "        # Exclude the input movie's index from the list of similar movies\n",
        "        similar_movies_indices = similar_movies_indices[similar_movies_indices != movie_index_input]\n",
        "\n",
        "        # Get the top N similar movies (e.g., top 10)\n",
        "        top_n = 10\n",
        "        top_similar_movies_indices = similar_movies_indices[:top_n]\n",
        "\n",
        "        # Retrieve the movie titles and their similarity scores\n",
        "        for index in top_similar_movies_indices:\n",
        "            # Find the movie ID corresponding to the index in movie_id_mapping\n",
        "            movie_id_similar = None\n",
        "            for movie_id, movie_index in movie_id_mapping.items():\n",
        "                if movie_index == index:\n",
        "                    movie_id_similar = int(movie_id)\n",
        "                    break\n",
        "\n",
        "            if movie_id_similar is not None and movie_id_similar in movie_id_to_title:\n",
        "                movie_title_similar = movie_id_to_title[movie_id_similar]\n",
        "                similarity_score = similarity_scores[0, index]\n",
        "                top_similar_movies.append((movie_title_similar, similarity_score))\n",
        "\n",
        "    else:\n",
        "        print(f\"Movie ID {movie_id_input} not found in the movie_id_mapping.\")"
      ],
      "execution_count": 73,
      "outputs": [
        {
          "output_type": "stream",
          "name": "stdout",
          "text": [
            "Found movie ID: 153 for \"Batman Forever (1995)\"\n"
          ]
        }
      ]
    },
    {
      "cell_type": "markdown",
      "metadata": {
        "id": "e171d88a"
      },
      "source": [
        "## 6. Recommend Movies\n",
        "\n",
        "**Subtask:** Present the recommended movies to the user.\n",
        "\n",
        "**Reasoning:**\n",
        "Print the list of top similar movies found in the previous step."
      ]
    },
    {
      "cell_type": "code",
      "metadata": {
        "colab": {
          "base_uri": "https://localhost:8080/"
        },
        "id": "0171bee3",
        "outputId": "6fd5940a-c46d-465c-dda3-4cd863755f6d"
      },
      "source": [
        "# Present the recommended movies to the user\n",
        "if top_similar_movies:\n",
        "    print(\"\\nRecommended movies based on your input:\")\n",
        "    for title, score in top_similar_movies:\n",
        "        print(f\"- {title}\")\n",
        "else:\n",
        "    print(\"No recommendations could be generated for the entered movie.\")"
      ],
      "execution_count": 74,
      "outputs": [
        {
          "output_type": "stream",
          "name": "stdout",
          "text": [
            "\n",
            "Recommended movies based on your input:\n",
            "- Sleepless in Seattle (1993)\n",
            "- Orlando (1993)\n",
            "- Age of Innocence, The (1993)\n",
            "- Brother from Another Planet, The (1984)\n"
          ]
        }
      ]
    },
    {
      "cell_type": "markdown",
      "metadata": {
        "id": "aTVOSa0iYrKH"
      },
      "source": [
        "## 7. Finish task\n",
        "\n",
        "**Subtask:** Summarize the process and celebrate your working recommendation system!\n",
        "\n",
        "**Reasoning:**\n",
        "Provide an exciting summary of the steps taken to build the movie recommendation system and encourage further interaction."
      ]
    },
    {
      "cell_type": "markdown",
      "metadata": {
        "id": "t0T4UZgtYt1T"
      },
      "source": [
        "🎉 **Congratulations!** 🎉\n",
        "\n",
        "You've successfully built a movie recommendation system from scratch! We've gone on a journey:\n",
        "\n",
        "1.  **Loaded and Prepared Data**: We gathered and cleaned the movie ratings and titles.\n",
        "2.  **Built the Model**: We used a clever technique (TF-IDF on user ratings) to understand movie relationships.\n",
        "3.  **Got Your Input**: We listened to what movie you like.\n",
        "4.  **Found Hidden Gems**: We unearthed similar movies based on how people rate them.\n",
        "5.  **Delivered Recommendations**: We presented your personalized movie suggestions!\n",
        "\n",
        "Now the fun really begins! Go back to the \"Get User Input\" step (Cell `5eb4f697`) and try entering different movie names to discover more cinematic treasures! Happy watching! 🎬🍿"
      ]
    }
  ]
}